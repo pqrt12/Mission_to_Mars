{
 "cells": [
  {
   "cell_type": "code",
   "execution_count": 1,
   "metadata": {},
   "outputs": [],
   "source": [
    "# Import Splinter and BeautifulSoup\n",
    "from splinter import Browser\n",
    "from bs4 import BeautifulSoup\n",
    "import pandas as pd\n",
    "import os\n",
    "import time"
   ]
  },
  {
   "cell_type": "code",
   "execution_count": 2,
   "metadata": {},
   "outputs": [],
   "source": [
    "# return a filename (with path) such that it is accessible. \n",
    "def get_fullname(filename):\n",
    "    # as long as it is accessible.\n",
    "    if os.path.isfile(filename):\n",
    "        return filename\n",
    "\n",
    "    # search current working directory.\n",
    "    cur_working_dir = os.getcwd()\n",
    "    for i in range(50):\n",
    "        for (path, dir, files) in os.walk(cur_working_dir):\n",
    "            if filename in files:\n",
    "                return os.path.join(path, filename)\n",
    "\n",
    "        # check parent directory\n",
    "        parent = os.path.dirname(cur_working_dir)\n",
    "        if cur_working_dir == parent:\n",
    "            break;\n",
    "        cur_working_dir = parent\n",
    "\n",
    "    # did not found, simply return.\n",
    "    print(f\"file {filename} not found !!!\")\n",
    "    return filename"
   ]
  },
  {
   "cell_type": "code",
   "execution_count": 3,
   "metadata": {},
   "outputs": [],
   "source": [
    "# get the full size image url: class=\"container\" / class=\"wide-image\"\n",
    "def get_img_url(img_soup):\n",
    "    img_url = \"\"\n",
    "    for container in img_soup.find_all(class_ = 'container'):\n",
    "        t = container.find(class_='wide-image')\n",
    "        if t:\n",
    "            img_url = t.get('src')\n",
    "            break\n",
    "    return img_url  "
   ]
  },
  {
   "cell_type": "code",
   "execution_count": 4,
   "metadata": {},
   "outputs": [],
   "source": [
    "# get the title: class=\"content\" / class=\"title\"\n",
    "def get_title(img_soup):\n",
    "    title = \"\"\n",
    "    for content in img_soup.find_all(class_ = 'content'):\n",
    "        if not title:\n",
    "            t = content.find(class_='title')\n",
    "            if t:\n",
    "                title = t.get_text()\n",
    "            break\n",
    "    return title"
   ]
  },
  {
   "cell_type": "code",
   "execution_count": 5,
   "metadata": {},
   "outputs": [],
   "source": [
    "# Set the executable path and initialize the chrome browser in splinter\n",
    "#executable_path = {'executable_path': '/usr/local/bin/chromedriver'}\n",
    "executable_path = {'executable_path': get_fullname(\"chromedriver.exe\")}\n",
    "browser = Browser('chrome', **executable_path)\n",
    "time.sleep(1)"
   ]
  },
  {
   "cell_type": "code",
   "execution_count": 6,
   "metadata": {},
   "outputs": [],
   "source": [
    "# Visit the usgs mars site\n",
    "usgs_base_url = 'https://astrogeology.usgs.gov'\n",
    "usgs_url = f'{usgs_base_url}/search/results?q=hemisphere+enhanced&k1=target&v1=Mars'\n",
    "browser.visit(usgs_url)"
   ]
  },
  {
   "cell_type": "code",
   "execution_count": 7,
   "metadata": {},
   "outputs": [],
   "source": [
    "# get the href for splinter find.\n",
    "prod_soup = BeautifulSoup(browser.html, 'html.parser').find(id='product-section')"
   ]
  },
  {
   "cell_type": "code",
   "execution_count": 11,
   "metadata": {},
   "outputs": [
    {
     "data": {
      "text/plain": [
       "['/cache/images/dfaf3849e74bf973b59eb50dab52b583_cerberus_enhanced.tif_thumb.png',\n",
       " '/cache/images/7677c0a006b83871b5a2f66985ab5857_schiaparelli_enhanced.tif_thumb.png',\n",
       " '/cache/images/aae41197e40d6d4f3ea557f8cfe51d15_syrtis_major_enhanced.tif_thumb.png',\n",
       " '/cache/images/04085d99ec3713883a9a57f42be9c725_valles_marineris_enhanced.tif_thumb.png']"
      ]
     },
     "execution_count": 11,
     "metadata": {},
     "output_type": "execute_result"
    }
   ],
   "source": [
    "thumbs = []\n",
    "for thumb in prod_soup.find_all(class_ = 'thumb'):\n",
    "    thumbs.append(thumb.get('src'))\n",
    "thumbs"
   ]
  },
  {
   "cell_type": "code",
   "execution_count": 14,
   "metadata": {},
   "outputs": [
    {
     "data": {
      "text/plain": [
       "['/search/map/Mars/Viking/cerberus_enhanced',\n",
       " '/search/map/Mars/Viking/schiaparelli_enhanced',\n",
       " '/search/map/Mars/Viking/syrtis_major_enhanced',\n",
       " '/search/map/Mars/Viking/valles_marineris_enhanced']"
      ]
     },
     "execution_count": 14,
     "metadata": {},
     "output_type": "execute_result"
    }
   ],
   "source": [
    "hrefs = []\n",
    "for a in prod_soup.find_all('a', href=True):\n",
    "    if a['href'] in hrefs:\n",
    "        continue\n",
    "    hrefs.append(a['href'])\n",
    "hrefs"
   ]
  },
  {
   "cell_type": "code",
   "execution_count": 18,
   "metadata": {},
   "outputs": [
    {
     "data": {
      "text/plain": [
       "<zip at 0x1dc83f36e88>"
      ]
     },
     "execution_count": 18,
     "metadata": {},
     "output_type": "execute_result"
    }
   ],
   "source": [
    "t_h = zip(thumbs, hrefs)\n",
    "t_h"
   ]
  },
  {
   "cell_type": "code",
   "execution_count": 15,
   "metadata": {},
   "outputs": [
    {
     "data": {
      "text/plain": [
       "[{'thumb': '/cache/images/dfaf3849e74bf973b59eb50dab52b583_cerberus_enhanced.tif_thumb.png',\n",
       "  'href': '/search/map/Mars/Viking/cerberus_enhanced'},\n",
       " {'thumb': '/cache/images/7677c0a006b83871b5a2f66985ab5857_schiaparelli_enhanced.tif_thumb.png',\n",
       "  'href': '/search/map/Mars/Viking/schiaparelli_enhanced'},\n",
       " {'thumb': '/cache/images/aae41197e40d6d4f3ea557f8cfe51d15_syrtis_major_enhanced.tif_thumb.png',\n",
       "  'href': '/search/map/Mars/Viking/syrtis_major_enhanced'},\n",
       " {'thumb': '/cache/images/04085d99ec3713883a9a57f42be9c725_valles_marineris_enhanced.tif_thumb.png',\n",
       "  'href': '/search/map/Mars/Viking/valles_marineris_enhanced'}]"
      ]
     },
     "execution_count": 15,
     "metadata": {},
     "output_type": "execute_result"
    }
   ],
   "source": [
    "thumb_hrefs = list(map(lambda t, h: {\"thumb\" : t, \"href\" : h}, thumbs, hrefs))\n",
    "thumb_hrefs"
   ]
  },
  {
   "cell_type": "code",
   "execution_count": 16,
   "metadata": {},
   "outputs": [],
   "source": [
    "# get the img_urls, titles and thumb.\n",
    "img_urls = []\n",
    "for thumb_href in thumb_hrefs:\n",
    "    # Optional delay for loading the page\n",
    "    browser.visit(usgs_url)\n",
    "    browser.is_element_present_by_id(\"product-section\", wait_time=10)\n",
    "    time.sleep(0.1)\n",
    "    browser.links.find_by_href(thumb_href['href'])[1].click()\n",
    "\n",
    "    # up to 10 sec.\n",
    "    browser.is_element_present_by_id(\"wide-image\", wait_time=10)\n",
    "    img_soup = BeautifulSoup(browser.html, 'html.parser')\n",
    "    # get title\n",
    "    title = get_title(img_soup)\n",
    "    # get url\n",
    "    img_url = get_img_url(img_soup)\n",
    "    # save it\n",
    "    if (title and img_url):\n",
    "        img_urls.append({'img_url' : usgs_base_url + img_url, 'title' : title, 'thumb' : usgs_base_url + thumb_href['thumb']})\n"
   ]
  },
  {
   "cell_type": "code",
   "execution_count": 17,
   "metadata": {},
   "outputs": [
    {
     "data": {
      "text/plain": [
       "[{'img_url': 'https://astrogeology.usgs.gov/cache/images/cfa62af2557222a02478f1fcd781d445_cerberus_enhanced.tif_full.jpg',\n",
       "  'title': 'Cerberus Hemisphere Enhanced',\n",
       "  'thumb': 'https://astrogeology.usgs.gov/cache/images/dfaf3849e74bf973b59eb50dab52b583_cerberus_enhanced.tif_thumb.png'},\n",
       " {'img_url': 'https://astrogeology.usgs.gov/cache/images/3cdd1cbf5e0813bba925c9030d13b62e_schiaparelli_enhanced.tif_full.jpg',\n",
       "  'title': 'Schiaparelli Hemisphere Enhanced',\n",
       "  'thumb': 'https://astrogeology.usgs.gov/cache/images/7677c0a006b83871b5a2f66985ab5857_schiaparelli_enhanced.tif_thumb.png'},\n",
       " {'img_url': 'https://astrogeology.usgs.gov/cache/images/ae209b4e408bb6c3e67b6af38168cf28_syrtis_major_enhanced.tif_full.jpg',\n",
       "  'title': 'Syrtis Major Hemisphere Enhanced',\n",
       "  'thumb': 'https://astrogeology.usgs.gov/cache/images/aae41197e40d6d4f3ea557f8cfe51d15_syrtis_major_enhanced.tif_thumb.png'},\n",
       " {'img_url': 'https://astrogeology.usgs.gov/cache/images/7cf2da4bf549ed01c17f206327be4db7_valles_marineris_enhanced.tif_full.jpg',\n",
       "  'title': 'Valles Marineris Hemisphere Enhanced',\n",
       "  'thumb': 'https://astrogeology.usgs.gov/cache/images/04085d99ec3713883a9a57f42be9c725_valles_marineris_enhanced.tif_thumb.png'}]"
      ]
     },
     "execution_count": 17,
     "metadata": {},
     "output_type": "execute_result"
    }
   ],
   "source": [
    "img_urls"
   ]
  },
  {
   "cell_type": "code",
   "execution_count": 7,
   "metadata": {},
   "outputs": [],
   "source": [
    "# Visit the usgs mars site\n",
    "usgs_base_url = 'https://astrogeology.usgs.gov'\n",
    "usgs_url = f'{usgs_base_url}/search/results?q=hemisphere+enhanced&k1=target&v1=Mars'\n",
    "browser.visit(usgs_url)\n",
    "# Optional delay for loading the page\n",
    "browser.is_element_present_by_id(\"product-section\", wait_time=10)\n",
    "time.sleep(0.1)\n",
    "    \n",
    "# get the href for splinter find.\n",
    "prod_soup = BeautifulSoup(browser.html, 'html.parser').find(id='product-section')\n",
    "thumbs_hrefs = []\n",
    "for a in prod_soup.find_all('a', href=True):\n",
    "    if a['href'] in thumbs_hrefs:\n",
    "        continue\n",
    "    thumbs_hrefs.append(a['href'])\n",
    "\n",
    "# get the img_urls, titles.\n",
    "img_urls = []\n",
    "for href in thumbs_hrefs:\n",
    "    # Optional delay for loading the page\n",
    "    browser.visit(usgs_url)\n",
    "    browser.is_element_present_by_id(\"product-section\", wait_time=10)\n",
    "    time.sleep(0.1)\n",
    "    browser.links.find_by_href(href)[1].click()\n",
    "\n",
    "    # up to 10 sec.\n",
    "    browser.is_element_present_by_id(\"wide-image\", wait_time=10)\n",
    "    img_soup = BeautifulSoup(browser.html, 'html.parser')\n",
    "    # get title\n",
    "    title = get_title(img_soup)\n",
    "    # get url\n",
    "    img_url = get_img_url(img_soup)\n",
    "    # save it\n",
    "    if (title and img_url):\n",
    "        img_urls.append({'img_url' : usgs_base_url + img_url, 'title' : title})"
   ]
  },
  {
   "cell_type": "code",
   "execution_count": 8,
   "metadata": {},
   "outputs": [
    {
     "data": {
      "text/plain": [
       "[{'img_url': 'https://astrogeology.usgs.gov/cache/images/cfa62af2557222a02478f1fcd781d445_cerberus_enhanced.tif_full.jpg',\n",
       "  'title': 'Cerberus Hemisphere Enhanced'},\n",
       " {'img_url': 'https://astrogeology.usgs.gov/cache/images/3cdd1cbf5e0813bba925c9030d13b62e_schiaparelli_enhanced.tif_full.jpg',\n",
       "  'title': 'Schiaparelli Hemisphere Enhanced'},\n",
       " {'img_url': 'https://astrogeology.usgs.gov/cache/images/ae209b4e408bb6c3e67b6af38168cf28_syrtis_major_enhanced.tif_full.jpg',\n",
       "  'title': 'Syrtis Major Hemisphere Enhanced'},\n",
       " {'img_url': 'https://astrogeology.usgs.gov/cache/images/7cf2da4bf549ed01c17f206327be4db7_valles_marineris_enhanced.tif_full.jpg',\n",
       "  'title': 'Valles Marineris Hemisphere Enhanced'}]"
      ]
     },
     "execution_count": 8,
     "metadata": {},
     "output_type": "execute_result"
    }
   ],
   "source": [
    "img_urls"
   ]
  },
  {
   "cell_type": "markdown",
   "metadata": {},
   "source": [
    "titles"
   ]
  },
  {
   "cell_type": "markdown",
   "metadata": {},
   "source": [
    "['https://astrogeology.usgs.gov/cache/images/cfa62af2557222a02478f1fcd781d445_cerberus_enhanced.tif_full.jpg',\n",
    " 'https://astrogeology.usgs.gov/cache/images/3cdd1cbf5e0813bba925c9030d13b62e_schiaparelli_enhanced.tif_full.jpg',\n",
    " 'https://astrogeology.usgs.gov/cache/images/ae209b4e408bb6c3e67b6af38168cf28_syrtis_major_enhanced.tif_full.jpg',\n",
    " 'https://astrogeology.usgs.gov/cache/images/7cf2da4bf549ed01c17f206327be4db7_valles_marineris_enhanced.tif_full.jpg']"
   ]
  }
 ],
 "metadata": {
  "kernelspec": {
   "display_name": "PythonData",
   "language": "python",
   "name": "pythondata"
  },
  "language_info": {
   "codemirror_mode": {
    "name": "ipython",
    "version": 3
   },
   "file_extension": ".py",
   "mimetype": "text/x-python",
   "name": "python",
   "nbconvert_exporter": "python",
   "pygments_lexer": "ipython3",
   "version": "3.7.4"
  }
 },
 "nbformat": 4,
 "nbformat_minor": 4
}
